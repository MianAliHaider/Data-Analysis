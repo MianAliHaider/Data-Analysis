{
 "cells": [
  {
   "cell_type": "code",
   "execution_count": 33,
   "metadata": {
    "_cell_guid": "b1076dfc-b9ad-4769-8c92-a6c4dae69d19",
    "_uuid": "8f2839f25d086af736a60e9eeb907d3b93b6e0e5",
    "execution": {
     "iopub.execute_input": "2024-12-28T04:54:33.868209Z",
     "iopub.status.busy": "2024-12-28T04:54:33.867700Z",
     "iopub.status.idle": "2024-12-28T04:54:33.876686Z",
     "shell.execute_reply": "2024-12-28T04:54:33.875642Z",
     "shell.execute_reply.started": "2024-12-28T04:54:33.868161Z"
    },
    "trusted": true
   },
   "outputs": [
    {
     "ename": "",
     "evalue": "",
     "output_type": "error",
     "traceback": [
      "\u001b[1;31mFailed to start the Kernel. \n",
      "\u001b[1;31mView Jupyter <a href='command:jupyter.viewOutput'>log</a> for further details."
     ]
    }
   ],
   "source": [
    "# This Python 3 environment comes with many helpful analytics libraries installed\n",
    "# It is defined by the kaggle/python Docker image: https://github.com/kaggle/docker-python\n",
    "# For example, here's several helpful packages to load\n",
    "\n",
    "import numpy as np # linear algebra\n",
    "import pandas as pd # data processing, CSV file I/O (e.g. pd.read_csv)\n",
    "\n",
    "# Input data files are available in the read-only \"../input/\" directory\n",
    "# For example, running this (by clicking run or pressing Shift+Enter) will list all files under the input directory\n",
    "\n",
    "import os\n",
    "for dirname, _, filenames in os.walk('/kaggle/input'):\n",
    "    for filename in filenames:\n",
    "        print(os.path.join(dirname, filename))\n",
    "\n",
    "# You can write up to 20GB to the current directory (/kaggle/working/) that gets preserved as output when you create a version using \"Save & Run All\" \n",
    "# You can also write temporary files to /kaggle/temp/, but they won't be saved outside of the current session"
   ]
  },
  {
   "cell_type": "code",
   "execution_count": 34,
   "metadata": {
    "execution": {
     "iopub.execute_input": "2024-12-28T04:54:33.878233Z",
     "iopub.status.busy": "2024-12-28T04:54:33.877869Z",
     "iopub.status.idle": "2024-12-28T04:54:33.895406Z",
     "shell.execute_reply": "2024-12-28T04:54:33.894357Z",
     "shell.execute_reply.started": "2024-12-28T04:54:33.878206Z"
    },
    "trusted": true
   },
   "outputs": [],
   "source": [
    "import warnings\n",
    "warnings.filterwarnings(\"ignore\", category=FutureWarning)\n"
   ]
  },
  {
   "cell_type": "markdown",
   "metadata": {},
   "source": [
    "# 1-Exploratory Data Analysis (EDA)"
   ]
  },
  {
   "cell_type": "markdown",
   "metadata": {},
   "source": [
    "### Import Libraries "
   ]
  },
  {
   "cell_type": "code",
   "execution_count": 35,
   "metadata": {
    "execution": {
     "iopub.execute_input": "2024-12-28T04:54:33.897283Z",
     "iopub.status.busy": "2024-12-28T04:54:33.896964Z",
     "iopub.status.idle": "2024-12-28T04:54:33.906299Z",
     "shell.execute_reply": "2024-12-28T04:54:33.905305Z",
     "shell.execute_reply.started": "2024-12-28T04:54:33.897246Z"
    },
    "trusted": true
   },
   "outputs": [],
   "source": [
    "import pandas as pd\n",
    "import seaborn as sns\n",
    "import matplotlib.pyplot as plt\n",
    "from sklearn.preprocessing import StandardScaler"
   ]
  },
  {
   "cell_type": "markdown",
   "metadata": {},
   "source": [
    "### Load the Dataset"
   ]
  },
  {
   "cell_type": "code",
   "execution_count": 36,
   "metadata": {
    "execution": {
     "iopub.execute_input": "2024-12-28T04:54:33.998737Z",
     "iopub.status.busy": "2024-12-28T04:54:33.998177Z",
     "iopub.status.idle": "2024-12-28T04:54:34.005921Z",
     "shell.execute_reply": "2024-12-28T04:54:34.004866Z",
     "shell.execute_reply.started": "2024-12-28T04:54:33.998636Z"
    },
    "trusted": true
   },
   "outputs": [],
   "source": [
    "df = pd.read_csv('/kaggle/input/youtube-subscribers-data-2024/youtube_subscribers_data.csv')"
   ]
  },
  {
   "cell_type": "markdown",
   "metadata": {},
   "source": [
    "### Show first 5 rows"
   ]
  },
  {
   "cell_type": "code",
   "execution_count": 37,
   "metadata": {
    "execution": {
     "iopub.execute_input": "2024-12-28T04:54:34.007730Z",
     "iopub.status.busy": "2024-12-28T04:54:34.007325Z",
     "iopub.status.idle": "2024-12-28T04:54:34.027211Z",
     "shell.execute_reply": "2024-12-28T04:54:34.026289Z",
     "shell.execute_reply.started": "2024-12-28T04:54:34.007683Z"
    },
    "trusted": true
   },
   "outputs": [],
   "source": [
    "df.head()"
   ]
  },
  {
   "cell_type": "markdown",
   "metadata": {},
   "source": [
    "### Check the total rows and columns"
   ]
  },
  {
   "cell_type": "code",
   "execution_count": 38,
   "metadata": {
    "execution": {
     "iopub.execute_input": "2024-12-28T04:54:34.029280Z",
     "iopub.status.busy": "2024-12-28T04:54:34.029000Z",
     "iopub.status.idle": "2024-12-28T04:54:34.047409Z",
     "shell.execute_reply": "2024-12-28T04:54:34.046284Z",
     "shell.execute_reply.started": "2024-12-28T04:54:34.029255Z"
    },
    "trusted": true
   },
   "outputs": [],
   "source": [
    "df.shape"
   ]
  },
  {
   "cell_type": "markdown",
   "metadata": {},
   "source": [
    "### Check the Column Header"
   ]
  },
  {
   "cell_type": "code",
   "execution_count": 39,
   "metadata": {
    "execution": {
     "iopub.execute_input": "2024-12-28T04:54:34.049315Z",
     "iopub.status.busy": "2024-12-28T04:54:34.049039Z",
     "iopub.status.idle": "2024-12-28T04:54:34.067332Z",
     "shell.execute_reply": "2024-12-28T04:54:34.066266Z",
     "shell.execute_reply.started": "2024-12-28T04:54:34.049292Z"
    },
    "trusted": true
   },
   "outputs": [],
   "source": [
    "df.columns.unique()"
   ]
  },
  {
   "cell_type": "markdown",
   "metadata": {},
   "source": [
    "### Check the unique entry of every column"
   ]
  },
  {
   "cell_type": "code",
   "execution_count": 40,
   "metadata": {
    "execution": {
     "iopub.execute_input": "2024-12-28T04:54:34.068678Z",
     "iopub.status.busy": "2024-12-28T04:54:34.068381Z",
     "iopub.status.idle": "2024-12-28T04:54:34.085975Z",
     "shell.execute_reply": "2024-12-28T04:54:34.084913Z",
     "shell.execute_reply.started": "2024-12-28T04:54:34.068654Z"
    },
    "trusted": true
   },
   "outputs": [],
   "source": [
    "df.Country.unique()"
   ]
  },
  {
   "cell_type": "code",
   "execution_count": 41,
   "metadata": {
    "execution": {
     "iopub.execute_input": "2024-12-28T04:54:34.087398Z",
     "iopub.status.busy": "2024-12-28T04:54:34.086976Z",
     "iopub.status.idle": "2024-12-28T04:54:34.106330Z",
     "shell.execute_reply": "2024-12-28T04:54:34.105351Z",
     "shell.execute_reply.started": "2024-12-28T04:54:34.087364Z"
    },
    "trusted": true
   },
   "outputs": [],
   "source": [
    "df.Category.unique()"
   ]
  },
  {
   "cell_type": "code",
   "execution_count": 42,
   "metadata": {
    "execution": {
     "iopub.execute_input": "2024-12-28T04:54:34.107985Z",
     "iopub.status.busy": "2024-12-28T04:54:34.107538Z",
     "iopub.status.idle": "2024-12-28T04:54:34.123772Z",
     "shell.execute_reply": "2024-12-28T04:54:34.122711Z",
     "shell.execute_reply.started": "2024-12-28T04:54:34.107939Z"
    },
    "trusted": true
   },
   "outputs": [],
   "source": [
    "df['Primary language'].unique()"
   ]
  },
  {
   "cell_type": "code",
   "execution_count": 43,
   "metadata": {
    "execution": {
     "iopub.execute_input": "2024-12-28T04:54:34.125154Z",
     "iopub.status.busy": "2024-12-28T04:54:34.124876Z",
     "iopub.status.idle": "2024-12-28T04:54:34.142323Z",
     "shell.execute_reply": "2024-12-28T04:54:34.141272Z",
     "shell.execute_reply.started": "2024-12-28T04:54:34.125132Z"
    },
    "trusted": true
   },
   "outputs": [],
   "source": [
    "df['Name'].unique()"
   ]
  },
  {
   "cell_type": "code",
   "execution_count": 44,
   "metadata": {
    "execution": {
     "iopub.execute_input": "2024-12-28T04:54:34.145668Z",
     "iopub.status.busy": "2024-12-28T04:54:34.145315Z",
     "iopub.status.idle": "2024-12-28T04:54:34.161437Z",
     "shell.execute_reply": "2024-12-28T04:54:34.160486Z",
     "shell.execute_reply.started": "2024-12-28T04:54:34.145628Z"
    },
    "trusted": true
   },
   "outputs": [],
   "source": [
    "df['Brand channel'].unique()"
   ]
  },
  {
   "cell_type": "code",
   "execution_count": 45,
   "metadata": {
    "execution": {
     "iopub.execute_input": "2024-12-28T04:54:34.163309Z",
     "iopub.status.busy": "2024-12-28T04:54:34.162949Z",
     "iopub.status.idle": "2024-12-28T04:54:34.181459Z",
     "shell.execute_reply": "2024-12-28T04:54:34.180406Z",
     "shell.execute_reply.started": "2024-12-28T04:54:34.163280Z"
    },
    "trusted": true
   },
   "outputs": [],
   "source": [
    "df['Subscribers (millions)'].unique()"
   ]
  },
  {
   "cell_type": "code",
   "execution_count": 46,
   "metadata": {
    "execution": {
     "iopub.execute_input": "2024-12-28T04:54:34.183022Z",
     "iopub.status.busy": "2024-12-28T04:54:34.182637Z",
     "iopub.status.idle": "2024-12-28T04:54:34.207283Z",
     "shell.execute_reply": "2024-12-28T04:54:34.206233Z",
     "shell.execute_reply.started": "2024-12-28T04:54:34.182985Z"
    },
    "trusted": true
   },
   "outputs": [],
   "source": [
    "df[df['Country']=='Pakistan']"
   ]
  },
  {
   "cell_type": "markdown",
   "metadata": {},
   "source": [
    "### Checking for Null Values in a Dataset  "
   ]
  },
  {
   "cell_type": "code",
   "execution_count": 47,
   "metadata": {
    "execution": {
     "iopub.execute_input": "2024-12-28T04:54:34.208525Z",
     "iopub.status.busy": "2024-12-28T04:54:34.208248Z",
     "iopub.status.idle": "2024-12-28T04:54:34.229124Z",
     "shell.execute_reply": "2024-12-28T04:54:34.228032Z",
     "shell.execute_reply.started": "2024-12-28T04:54:34.208500Z"
    },
    "trusted": true
   },
   "outputs": [],
   "source": [
    "df.isnull().sum()"
   ]
  },
  {
   "cell_type": "markdown",
   "metadata": {},
   "source": [
    "### Check the datatype of each column"
   ]
  },
  {
   "cell_type": "code",
   "execution_count": 48,
   "metadata": {
    "execution": {
     "iopub.execute_input": "2024-12-28T04:54:34.230698Z",
     "iopub.status.busy": "2024-12-28T04:54:34.230287Z",
     "iopub.status.idle": "2024-12-28T04:54:34.255023Z",
     "shell.execute_reply": "2024-12-28T04:54:34.253627Z",
     "shell.execute_reply.started": "2024-12-28T04:54:34.230648Z"
    },
    "trusted": true
   },
   "outputs": [],
   "source": [
    "df.info()"
   ]
  },
  {
   "cell_type": "markdown",
   "metadata": {},
   "source": [
    "### Summary statistics of dataset"
   ]
  },
  {
   "cell_type": "code",
   "execution_count": 49,
   "metadata": {
    "execution": {
     "iopub.execute_input": "2024-12-28T04:54:34.256379Z",
     "iopub.status.busy": "2024-12-28T04:54:34.256083Z",
     "iopub.status.idle": "2024-12-28T04:54:34.278337Z",
     "shell.execute_reply": "2024-12-28T04:54:34.277278Z",
     "shell.execute_reply.started": "2024-12-28T04:54:34.256352Z"
    },
    "trusted": true
   },
   "outputs": [],
   "source": [
    "df.describe()"
   ]
  },
  {
   "cell_type": "markdown",
   "metadata": {},
   "source": [
    "## Visualizations"
   ]
  },
  {
   "cell_type": "markdown",
   "metadata": {},
   "source": [
    "#### histograms visualization"
   ]
  },
  {
   "cell_type": "code",
   "execution_count": 50,
   "metadata": {
    "execution": {
     "iopub.execute_input": "2024-12-28T04:54:34.279868Z",
     "iopub.status.busy": "2024-12-28T04:54:34.279425Z",
     "iopub.status.idle": "2024-12-28T04:54:34.601935Z",
     "shell.execute_reply": "2024-12-28T04:54:34.601000Z",
     "shell.execute_reply.started": "2024-12-28T04:54:34.279781Z"
    },
    "trusted": true
   },
   "outputs": [],
   "source": [
    "df['Subscribers (millions)'].hist(bins=10, color='skyblue', edgecolor='black')\n",
    "plt.title('Distribution of Subscribers (millions)')\n",
    "plt.xlabel('Subscribers (millions)')\n",
    "plt.ylabel('Frequency')\n",
    "plt.show()"
   ]
  },
  {
   "cell_type": "markdown",
   "metadata": {},
   "source": [
    "#### Box Plot visualization"
   ]
  },
  {
   "cell_type": "code",
   "execution_count": 51,
   "metadata": {
    "execution": {
     "iopub.execute_input": "2024-12-28T04:54:34.603176Z",
     "iopub.status.busy": "2024-12-28T04:54:34.602904Z",
     "iopub.status.idle": "2024-12-28T04:54:34.724547Z",
     "shell.execute_reply": "2024-12-28T04:54:34.723454Z",
     "shell.execute_reply.started": "2024-12-28T04:54:34.603153Z"
    },
    "trusted": true
   },
   "outputs": [],
   "source": [
    "sns.boxplot(x=df['Subscribers (millions)'])\n",
    "plt.title('Box Plot for Subscribers')\n",
    "plt.show()"
   ]
  },
  {
   "cell_type": "markdown",
   "metadata": {},
   "source": [
    "#### Scatter Plot Visualization"
   ]
  },
  {
   "cell_type": "code",
   "execution_count": 52,
   "metadata": {
    "execution": {
     "iopub.execute_input": "2024-12-28T04:54:34.725947Z",
     "iopub.status.busy": "2024-12-28T04:54:34.725544Z",
     "iopub.status.idle": "2024-12-28T04:54:34.925550Z",
     "shell.execute_reply": "2024-12-28T04:54:34.924435Z",
     "shell.execute_reply.started": "2024-12-28T04:54:34.725918Z"
    },
    "trusted": true
   },
   "outputs": [],
   "source": [
    "sns.scatterplot(x=df.index, y=df['Subscribers (millions)'])\n",
    "plt.title('Subscribers Scatter Plot')\n",
    "plt.xlabel('Index')\n",
    "plt.ylabel('Subscribers (millions)')\n",
    "plt.show()"
   ]
  },
  {
   "cell_type": "markdown",
   "metadata": {},
   "source": [
    "## Correlation Analysis"
   ]
  },
  {
   "cell_type": "code",
   "execution_count": 53,
   "metadata": {
    "execution": {
     "iopub.execute_input": "2024-12-28T04:54:34.927071Z",
     "iopub.status.busy": "2024-12-28T04:54:34.926672Z",
     "iopub.status.idle": "2024-12-28T04:54:35.129316Z",
     "shell.execute_reply": "2024-12-28T04:54:35.128429Z",
     "shell.execute_reply.started": "2024-12-28T04:54:34.927031Z"
    },
    "trusted": true
   },
   "outputs": [],
   "source": [
    "correlation = df.select_dtypes(include=['float64', 'int64']).corr()\n",
    "sns.heatmap(correlation, annot=True, cmap='coolwarm')\n",
    "plt.title('Correlation Heatmap')\n",
    "plt.show()"
   ]
  },
  {
   "cell_type": "markdown",
   "metadata": {},
   "source": [
    "## Outlier Detection"
   ]
  },
  {
   "cell_type": "code",
   "execution_count": 54,
   "metadata": {
    "execution": {
     "iopub.execute_input": "2024-12-28T04:54:35.130411Z",
     "iopub.status.busy": "2024-12-28T04:54:35.130172Z",
     "iopub.status.idle": "2024-12-28T04:54:35.142257Z",
     "shell.execute_reply": "2024-12-28T04:54:35.141317Z",
     "shell.execute_reply.started": "2024-12-28T04:54:35.130389Z"
    },
    "trusted": true
   },
   "outputs": [],
   "source": [
    "Q1 = df['Subscribers (millions)'].quantile(0.25)\n",
    "Q3 = df['Subscribers (millions)'].quantile(0.75)\n",
    "IQR = Q3 - Q1\n",
    "\n",
    "outliers = df[(df['Subscribers (millions)'] < Q1 - 1.5 * IQR) | (df['Subscribers (millions)'] > Q3 + 1.5 * IQR)]\n",
    "print(\"Outliers:\\n\", outliers)"
   ]
  },
  {
   "cell_type": "markdown",
   "metadata": {},
   "source": [
    "## Feature Distribution Analysis"
   ]
  },
  {
   "cell_type": "code",
   "execution_count": 55,
   "metadata": {
    "execution": {
     "iopub.execute_input": "2024-12-28T04:54:35.143456Z",
     "iopub.status.busy": "2024-12-28T04:54:35.143174Z",
     "iopub.status.idle": "2024-12-28T04:54:35.444145Z",
     "shell.execute_reply": "2024-12-28T04:54:35.443006Z",
     "shell.execute_reply.started": "2024-12-28T04:54:35.143432Z"
    },
    "trusted": true
   },
   "outputs": [],
   "source": [
    "df['Category'].value_counts().plot(kind='bar', color='skyblue')\n",
    "plt.title('Category Distribution')\n",
    "plt.xlabel('Category')\n",
    "plt.ylabel('Count')\n",
    "plt.show()"
   ]
  },
  {
   "cell_type": "markdown",
   "metadata": {},
   "source": [
    "## Grouped Aggregations"
   ]
  },
  {
   "cell_type": "markdown",
   "metadata": {},
   "source": [
    "#### Analyze Subscribers (millions) by Category."
   ]
  },
  {
   "cell_type": "code",
   "execution_count": 56,
   "metadata": {
    "execution": {
     "iopub.execute_input": "2024-12-28T04:54:35.445516Z",
     "iopub.status.busy": "2024-12-28T04:54:35.445211Z",
     "iopub.status.idle": "2024-12-28T04:54:35.730397Z",
     "shell.execute_reply": "2024-12-28T04:54:35.729416Z",
     "shell.execute_reply.started": "2024-12-28T04:54:35.445489Z"
    },
    "trusted": true
   },
   "outputs": [],
   "source": [
    "grouped = df.groupby('Category')['Subscribers (millions)'].sum()\n",
    "print(grouped)\n",
    "grouped.plot(kind='bar', color='skyblue')\n",
    "plt.title('Total Subscribers by Category')\n",
    "plt.ylabel('Subscribers (millions)')\n",
    "plt.show()\n"
   ]
  },
  {
   "cell_type": "markdown",
   "metadata": {},
   "source": [
    "## Insights from Relationships Between Features"
   ]
  },
  {
   "cell_type": "code",
   "execution_count": 57,
   "metadata": {
    "execution": {
     "iopub.execute_input": "2024-12-28T04:54:35.731834Z",
     "iopub.status.busy": "2024-12-28T04:54:35.731510Z",
     "iopub.status.idle": "2024-12-28T04:54:36.256469Z",
     "shell.execute_reply": "2024-12-28T04:54:36.255356Z",
     "shell.execute_reply.started": "2024-12-28T04:54:35.731807Z"
    },
    "trusted": true
   },
   "outputs": [],
   "source": [
    "sns.pairplot(df, hue='Category')\n",
    "plt.title('Pairwise Analysis')\n",
    "plt.show()"
   ]
  },
  {
   "cell_type": "markdown",
   "metadata": {},
   "source": [
    "## Additional Analyses"
   ]
  },
  {
   "cell_type": "markdown",
   "metadata": {},
   "source": [
    "#### Top Channels by Subscribers"
   ]
  },
  {
   "cell_type": "code",
   "execution_count": 58,
   "metadata": {
    "execution": {
     "iopub.execute_input": "2024-12-28T04:54:36.257892Z",
     "iopub.status.busy": "2024-12-28T04:54:36.257515Z",
     "iopub.status.idle": "2024-12-28T04:54:36.268436Z",
     "shell.execute_reply": "2024-12-28T04:54:36.267276Z",
     "shell.execute_reply.started": "2024-12-28T04:54:36.257860Z"
    },
    "trusted": true
   },
   "outputs": [],
   "source": [
    "top_channels = df.nlargest(5, 'Subscribers (millions)')\n",
    "print(\"Top Channels:\\n\", top_channels)\n"
   ]
  },
  {
   "cell_type": "markdown",
   "metadata": {},
   "source": [
    "#### Country-wise Distribution"
   ]
  },
  {
   "cell_type": "code",
   "execution_count": 59,
   "metadata": {
    "execution": {
     "iopub.execute_input": "2024-12-28T04:54:36.269754Z",
     "iopub.status.busy": "2024-12-28T04:54:36.269366Z",
     "iopub.status.idle": "2024-12-28T04:54:36.570160Z",
     "shell.execute_reply": "2024-12-28T04:54:36.569110Z",
     "shell.execute_reply.started": "2024-12-28T04:54:36.269700Z"
    },
    "trusted": true
   },
   "outputs": [],
   "source": [
    "plt.figure(figsize=(10, 8)) \n",
    "df['Country'].value_counts().plot(kind='pie', autopct='%1.1f%%')\n",
    "plt.title('Country-wise Channel Distribution')\n",
    "plt.show()"
   ]
  },
  {
   "cell_type": "markdown",
   "metadata": {},
   "source": [
    "# Data Preprocessing"
   ]
  },
  {
   "cell_type": "markdown",
   "metadata": {},
   "source": [
    "### Handle Missing Values"
   ]
  },
  {
   "cell_type": "code",
   "execution_count": 60,
   "metadata": {
    "execution": {
     "iopub.execute_input": "2024-12-28T04:54:36.572698Z",
     "iopub.status.busy": "2024-12-28T04:54:36.572401Z",
     "iopub.status.idle": "2024-12-28T04:54:36.584153Z",
     "shell.execute_reply": "2024-12-28T04:54:36.583059Z",
     "shell.execute_reply.started": "2024-12-28T04:54:36.572673Z"
    },
    "trusted": true
   },
   "outputs": [],
   "source": [
    "numerical_columns = df.select_dtypes(include=['float64', 'int64']).columns\n",
    "categorical_columns = df.select_dtypes(include=['object']).columns\n",
    "df[numerical_columns] = df[numerical_columns].fillna(df[numerical_columns].mean())\n",
    "for column in categorical_columns:\n",
    "    df[column] = df[column].fillna(df[column].mode()[0])"
   ]
  },
  {
   "cell_type": "markdown",
   "metadata": {},
   "source": [
    "### Encode Categorical Variables"
   ]
  },
  {
   "cell_type": "code",
   "execution_count": 61,
   "metadata": {
    "execution": {
     "iopub.execute_input": "2024-12-28T04:54:36.585644Z",
     "iopub.status.busy": "2024-12-28T04:54:36.585336Z",
     "iopub.status.idle": "2024-12-28T04:54:36.603940Z",
     "shell.execute_reply": "2024-12-28T04:54:36.602996Z",
     "shell.execute_reply.started": "2024-12-28T04:54:36.585617Z"
    },
    "trusted": true
   },
   "outputs": [],
   "source": [
    "df_encoded = pd.get_dummies(df, columns=['Brand channel', 'Primary language', 'Category', 'Country'], drop_first=True)"
   ]
  },
  {
   "cell_type": "code",
   "execution_count": 62,
   "metadata": {
    "execution": {
     "iopub.execute_input": "2024-12-28T04:54:36.605201Z",
     "iopub.status.busy": "2024-12-28T04:54:36.604907Z",
     "iopub.status.idle": "2024-12-28T04:54:36.656038Z",
     "shell.execute_reply": "2024-12-28T04:54:36.654891Z",
     "shell.execute_reply.started": "2024-12-28T04:54:36.605174Z"
    },
    "trusted": true
   },
   "outputs": [],
   "source": [
    "df_encoded"
   ]
  },
  {
   "cell_type": "markdown",
   "metadata": {},
   "source": [
    "### Scale or Normalize Numerical Features"
   ]
  },
  {
   "cell_type": "code",
   "execution_count": 63,
   "metadata": {
    "execution": {
     "iopub.execute_input": "2024-12-28T04:54:36.657553Z",
     "iopub.status.busy": "2024-12-28T04:54:36.657212Z",
     "iopub.status.idle": "2024-12-28T04:54:36.665754Z",
     "shell.execute_reply": "2024-12-28T04:54:36.664683Z",
     "shell.execute_reply.started": "2024-12-28T04:54:36.657523Z"
    },
    "trusted": true
   },
   "outputs": [],
   "source": [
    "scaler = StandardScaler()\n",
    "df_encoded['Subscribers (millions)'] = scaler.fit_transform(df_encoded[['Subscribers (millions)']])"
   ]
  },
  {
   "cell_type": "code",
   "execution_count": 64,
   "metadata": {
    "execution": {
     "iopub.execute_input": "2024-12-28T04:54:36.667319Z",
     "iopub.status.busy": "2024-12-28T04:54:36.666937Z",
     "iopub.status.idle": "2024-12-28T04:54:36.686441Z",
     "shell.execute_reply": "2024-12-28T04:54:36.685605Z",
     "shell.execute_reply.started": "2024-12-28T04:54:36.667278Z"
    },
    "trusted": true
   },
   "outputs": [],
   "source": [
    "from sklearn.model_selection import train_test_split\n",
    "\n",
    "X = df_encoded.drop('Subscribers (millions)', axis=1)\n",
    "y = df_encoded['Subscribers (millions)']\n",
    "X_train, X_test, y_train, y_test = train_test_split(X, y, test_size=0.2, random_state=42)"
   ]
  },
  {
   "cell_type": "markdown",
   "metadata": {},
   "source": [
    "# Machine Learning Model"
   ]
  },
  {
   "cell_type": "code",
   "execution_count": 65,
   "metadata": {
    "execution": {
     "iopub.execute_input": "2024-12-28T04:54:36.687816Z",
     "iopub.status.busy": "2024-12-28T04:54:36.687484Z",
     "iopub.status.idle": "2024-12-28T04:54:36.840160Z",
     "shell.execute_reply": "2024-12-28T04:54:36.839279Z",
     "shell.execute_reply.started": "2024-12-28T04:54:36.687788Z"
    },
    "trusted": true
   },
   "outputs": [],
   "source": [
    "# Import necessary libraries\n",
    "import pandas as pd\n",
    "from sklearn.model_selection import train_test_split\n",
    "from sklearn.preprocessing import LabelEncoder\n",
    "from sklearn.ensemble import RandomForestRegressor\n",
    "from sklearn.metrics import mean_absolute_error, mean_squared_error, r2_score\n",
    "\n",
    "label_encoder = LabelEncoder()\n",
    "\n",
    "df_encoded = df.copy()\n",
    "df_encoded['Brand channel'] = label_encoder.fit_transform(df['Brand channel'])\n",
    "df_encoded['Primary language'] = label_encoder.fit_transform(df['Primary language'])\n",
    "df_encoded['Category'] = label_encoder.fit_transform(df['Category'])\n",
    "df_encoded['Country'] = label_encoder.fit_transform(df['Country'])\n",
    "\n",
    "X = df_encoded.drop(columns=['Subscribers (millions)', 'Name'])  # drop 'Name' since it's just an identifier\n",
    "y = df_encoded['Subscribers (millions)']\n",
    "\n",
    "X_train, X_test, y_train, y_test = train_test_split(X, y, test_size=0.2, random_state=42)\n",
    "\n",
    "model = RandomForestRegressor(n_estimators=100, random_state=42)\n",
    "model.fit(X_train, y_train)\n",
    "\n",
    "y_pred = model.predict(X_test)\n",
    "\n",
    "mae = mean_absolute_error(y_test, y_pred)\n",
    "mse = mean_squared_error(y_test, y_pred)\n",
    "r2 = r2_score(y_test, y_pred)\n",
    "\n",
    "print(f\"Mean Absolute Error: {mae}\")\n",
    "print(f\"Mean Squared Error: {mse}\")\n",
    "print(f\"R-squared: {r2}\")"
   ]
  },
  {
   "cell_type": "code",
   "execution_count": null,
   "metadata": {
    "trusted": true
   },
   "outputs": [],
   "source": []
  }
 ],
 "metadata": {
  "kaggle": {
   "accelerator": "none",
   "dataSources": [
    {
     "datasetId": 6244142,
     "sourceId": 10119744,
     "sourceType": "datasetVersion"
    }
   ],
   "dockerImageVersionId": 30822,
   "isGpuEnabled": false,
   "isInternetEnabled": true,
   "language": "python",
   "sourceType": "notebook"
  },
  "kernelspec": {
   "display_name": "\"Python/Mu (mu_venv-38-20240531-151700)\"",
   "language": "python",
   "name": "mu_venv-38-20240531-151700"
  }
 },
 "nbformat": 4,
 "nbformat_minor": 4
}
